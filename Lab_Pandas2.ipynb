{
  "nbformat": 4,
  "nbformat_minor": 0,
  "metadata": {
    "celltoolbar": "Edit Metadata",
    "colab": {
      "provenance": [],
      "include_colab_link": true
    },
    "kernelspec": {
      "display_name": "Python 3",
      "language": "python",
      "name": "python3"
    },
    "language_info": {
      "codemirror_mode": {
        "name": "ipython",
        "version": 3
      },
      "file_extension": ".py",
      "mimetype": "text/x-python",
      "name": "python",
      "nbconvert_exporter": "python",
      "pygments_lexer": "ipython3",
      "version": "3.6.13"
    }
  },
  "cells": [
    {
      "cell_type": "markdown",
      "metadata": {
        "id": "view-in-github",
        "colab_type": "text"
      },
      "source": [
        "<a href=\"https://colab.research.google.com/github/Rogerio-mack/Analise_de_Dados_2023S2/blob/main/Lab_Pandas2.ipynb\" target=\"_parent\"><img src=\"https://colab.research.google.com/assets/colab-badge.svg\" alt=\"Open In Colab\"/></a>"
      ]
    },
    {
      "cell_type": "markdown",
      "metadata": {
        "id": "J3LMBfpeHTwb"
      },
      "source": [
        "<head>\n",
        "  <meta name=\"author\" content=\"Rogério de Oliveira\">\n",
        "  <meta institution=\"author\" content=\"Universidade Presbiteriana Mackenzie\">\n",
        "</head>\n",
        "\n",
        "<img src=\"http://meusite.mackenzie.br/rogerio/mackenzie_logo/UPM.2_horizontal_vermelho.jpg\" width=300, align=\"right\">\n",
        "<!-- <h1 align=left><font size = 6, style=\"color:rgb(200,0,0)\"> optional title </font></h1> -->\n",
        "\n"
      ]
    },
    {
      "cell_type": "markdown",
      "source": [
        "# Lab: Pandas II\n",
        "\n",
        "O principal objetivo deste Lab é você explorar o `Pandas` e recursos para várias tarefas importantes na análise de dados como o tratamento de datas, dados nulos, entendimento dos dados, remoção de duplicatas, criação de novas colunas de dados e seleções.\n",
        "\n",
        "<br>\n",
        "\n",
        "Referências e Materiais úteis para este Lab:\n",
        "\n",
        "* [Notas de Aula](https://colab.research.google.com/github/Rogerio-mack/Analise_de_dados_labs/blob/main/Lab_Pandas_notes.ipynb)\n",
        "\n",
        "<br>\n",
        "\n",
        "<img src=\"https://jakevdp.github.io/PythonDataScienceHandbook/figures/PDSH-cover.png\n",
        "\" width=150>\n",
        "\n",
        "* [Jake VanderPlas. **Python Data Science Handbook**](https://jakevdp.github.io/PythonDataScienceHandbook/)\n",
        "\n",
        "* [Pandas Cheat Sheet for Data Science in Python](https://pandas.pydata.org/Pandas_Cheat_Sheet.pdf)\n",
        "\n",
        "* [Pandas Manual](https://pandas.pydata.org/)\n",
        "\n",
        "<br>\n",
        "---\n",
        "\n"
      ],
      "metadata": {
        "id": "dEyV_GqcqtL1"
      }
    },
    {
      "cell_type": "markdown",
      "source": [
        "# Basic imports"
      ],
      "metadata": {
        "id": "6AsPs0GIlyle"
      }
    },
    {
      "cell_type": "code",
      "metadata": {
        "id": "jf4DkEBpGdr4"
      },
      "source": [
        "import numpy as np\n",
        "import pandas as pd\n",
        "import matplotlib.pyplot as plt\n",
        "%matplotlib inline\n",
        "import seaborn as sns\n"
      ],
      "execution_count": null,
      "outputs": []
    },
    {
      "cell_type": "markdown",
      "metadata": {
        "id": "te1NO4UoLvgn"
      },
      "source": [
        "## **CASE: NFL**\n",
        "\n",
        "Acesse a base de dados [`NFL Offensive Stats`](https://github.com/Rogerio-mack/Analise_de_dados_labs/raw/main/data/nfl_offensive_stats.csv) para as questões a seguir.\n",
        "\n"
      ]
    },
    {
      "cell_type": "code",
      "source": [
        "df = pd.read_csv('https://github.com/Rogerio-mack/Analise_de_Dados_2023S2/raw/main/nfl_offensive_stats.csv')\n",
        "df.head()"
      ],
      "metadata": {
        "colab": {
          "base_uri": "https://localhost:8080/",
          "height": 404
        },
        "id": "Fdl5M8lcKy2U",
        "outputId": "f6fbf490-6c6a-431c-c465-75115ced56c2"
      },
      "execution_count": null,
      "outputs": [
        {
          "output_type": "execute_result",
          "data": {
            "text/plain": [
              "        game_id player_id position                     player team  pass_cmp  \\\n",
              "0  201909050chi  RodgAa00        QB             Aaron Rodgers  GNB        18   \n",
              "1  201909050chi  JoneAa00        RB               Aaron Jones  GNB         0   \n",
              "2  201909050chi  ValdMa00        WR  Marquez Valdes-Scantling  GNB         0   \n",
              "3  201909050chi  AdamDa01        WR             Davante Adams  GNB         0   \n",
              "4  201909050chi  GrahJi00        TE              Jimmy Graham  GNB         0   \n",
              "\n",
              "   pass_att  pass_yds  pass_td  pass_int  ...     OT      Roof  Surface  \\\n",
              "0        30       203        1         0  ...  False  outdoors    grass   \n",
              "1         0         0        0         0  ...  False  outdoors    grass   \n",
              "2         0         0        0         0  ...  False  outdoors    grass   \n",
              "3         0         0        0         0  ...  False  outdoors    grass   \n",
              "4         0         0        0         0  ...  False  outdoors    grass   \n",
              "\n",
              "   Temperature  Humidity  Wind_Speed  Vegas_Line  Vegas_Favorite  Over_Under  \\\n",
              "0           65        69          10        -3.5             CHI        47.0   \n",
              "1           65        69          10        -3.5             CHI        47.0   \n",
              "2           65        69          10        -3.5             CHI        47.0   \n",
              "3           65        69          10        -3.5             CHI        47.0   \n",
              "4           65        69          10        -3.5             CHI        47.0   \n",
              "\n",
              "   game_date  \n",
              "0   9/5/2019  \n",
              "1   9/5/2019  \n",
              "2   9/5/2019  \n",
              "3   9/5/2019  \n",
              "4   9/5/2019  \n",
              "\n",
              "[5 rows x 69 columns]"
            ],
            "text/html": [
              "\n",
              "  <div id=\"df-b93fc43b-3c84-48ae-b246-c12fa06d24e8\">\n",
              "    <div class=\"colab-df-container\">\n",
              "      <div>\n",
              "<style scoped>\n",
              "    .dataframe tbody tr th:only-of-type {\n",
              "        vertical-align: middle;\n",
              "    }\n",
              "\n",
              "    .dataframe tbody tr th {\n",
              "        vertical-align: top;\n",
              "    }\n",
              "\n",
              "    .dataframe thead th {\n",
              "        text-align: right;\n",
              "    }\n",
              "</style>\n",
              "<table border=\"1\" class=\"dataframe\">\n",
              "  <thead>\n",
              "    <tr style=\"text-align: right;\">\n",
              "      <th></th>\n",
              "      <th>game_id</th>\n",
              "      <th>player_id</th>\n",
              "      <th>position</th>\n",
              "      <th>player</th>\n",
              "      <th>team</th>\n",
              "      <th>pass_cmp</th>\n",
              "      <th>pass_att</th>\n",
              "      <th>pass_yds</th>\n",
              "      <th>pass_td</th>\n",
              "      <th>pass_int</th>\n",
              "      <th>...</th>\n",
              "      <th>OT</th>\n",
              "      <th>Roof</th>\n",
              "      <th>Surface</th>\n",
              "      <th>Temperature</th>\n",
              "      <th>Humidity</th>\n",
              "      <th>Wind_Speed</th>\n",
              "      <th>Vegas_Line</th>\n",
              "      <th>Vegas_Favorite</th>\n",
              "      <th>Over_Under</th>\n",
              "      <th>game_date</th>\n",
              "    </tr>\n",
              "  </thead>\n",
              "  <tbody>\n",
              "    <tr>\n",
              "      <th>0</th>\n",
              "      <td>201909050chi</td>\n",
              "      <td>RodgAa00</td>\n",
              "      <td>QB</td>\n",
              "      <td>Aaron Rodgers</td>\n",
              "      <td>GNB</td>\n",
              "      <td>18</td>\n",
              "      <td>30</td>\n",
              "      <td>203</td>\n",
              "      <td>1</td>\n",
              "      <td>0</td>\n",
              "      <td>...</td>\n",
              "      <td>False</td>\n",
              "      <td>outdoors</td>\n",
              "      <td>grass</td>\n",
              "      <td>65</td>\n",
              "      <td>69</td>\n",
              "      <td>10</td>\n",
              "      <td>-3.5</td>\n",
              "      <td>CHI</td>\n",
              "      <td>47.0</td>\n",
              "      <td>9/5/2019</td>\n",
              "    </tr>\n",
              "    <tr>\n",
              "      <th>1</th>\n",
              "      <td>201909050chi</td>\n",
              "      <td>JoneAa00</td>\n",
              "      <td>RB</td>\n",
              "      <td>Aaron Jones</td>\n",
              "      <td>GNB</td>\n",
              "      <td>0</td>\n",
              "      <td>0</td>\n",
              "      <td>0</td>\n",
              "      <td>0</td>\n",
              "      <td>0</td>\n",
              "      <td>...</td>\n",
              "      <td>False</td>\n",
              "      <td>outdoors</td>\n",
              "      <td>grass</td>\n",
              "      <td>65</td>\n",
              "      <td>69</td>\n",
              "      <td>10</td>\n",
              "      <td>-3.5</td>\n",
              "      <td>CHI</td>\n",
              "      <td>47.0</td>\n",
              "      <td>9/5/2019</td>\n",
              "    </tr>\n",
              "    <tr>\n",
              "      <th>2</th>\n",
              "      <td>201909050chi</td>\n",
              "      <td>ValdMa00</td>\n",
              "      <td>WR</td>\n",
              "      <td>Marquez Valdes-Scantling</td>\n",
              "      <td>GNB</td>\n",
              "      <td>0</td>\n",
              "      <td>0</td>\n",
              "      <td>0</td>\n",
              "      <td>0</td>\n",
              "      <td>0</td>\n",
              "      <td>...</td>\n",
              "      <td>False</td>\n",
              "      <td>outdoors</td>\n",
              "      <td>grass</td>\n",
              "      <td>65</td>\n",
              "      <td>69</td>\n",
              "      <td>10</td>\n",
              "      <td>-3.5</td>\n",
              "      <td>CHI</td>\n",
              "      <td>47.0</td>\n",
              "      <td>9/5/2019</td>\n",
              "    </tr>\n",
              "    <tr>\n",
              "      <th>3</th>\n",
              "      <td>201909050chi</td>\n",
              "      <td>AdamDa01</td>\n",
              "      <td>WR</td>\n",
              "      <td>Davante Adams</td>\n",
              "      <td>GNB</td>\n",
              "      <td>0</td>\n",
              "      <td>0</td>\n",
              "      <td>0</td>\n",
              "      <td>0</td>\n",
              "      <td>0</td>\n",
              "      <td>...</td>\n",
              "      <td>False</td>\n",
              "      <td>outdoors</td>\n",
              "      <td>grass</td>\n",
              "      <td>65</td>\n",
              "      <td>69</td>\n",
              "      <td>10</td>\n",
              "      <td>-3.5</td>\n",
              "      <td>CHI</td>\n",
              "      <td>47.0</td>\n",
              "      <td>9/5/2019</td>\n",
              "    </tr>\n",
              "    <tr>\n",
              "      <th>4</th>\n",
              "      <td>201909050chi</td>\n",
              "      <td>GrahJi00</td>\n",
              "      <td>TE</td>\n",
              "      <td>Jimmy Graham</td>\n",
              "      <td>GNB</td>\n",
              "      <td>0</td>\n",
              "      <td>0</td>\n",
              "      <td>0</td>\n",
              "      <td>0</td>\n",
              "      <td>0</td>\n",
              "      <td>...</td>\n",
              "      <td>False</td>\n",
              "      <td>outdoors</td>\n",
              "      <td>grass</td>\n",
              "      <td>65</td>\n",
              "      <td>69</td>\n",
              "      <td>10</td>\n",
              "      <td>-3.5</td>\n",
              "      <td>CHI</td>\n",
              "      <td>47.0</td>\n",
              "      <td>9/5/2019</td>\n",
              "    </tr>\n",
              "  </tbody>\n",
              "</table>\n",
              "<p>5 rows × 69 columns</p>\n",
              "</div>\n",
              "      <button class=\"colab-df-convert\" onclick=\"convertToInteractive('df-b93fc43b-3c84-48ae-b246-c12fa06d24e8')\"\n",
              "              title=\"Convert this dataframe to an interactive table.\"\n",
              "              style=\"display:none;\">\n",
              "        \n",
              "  <svg xmlns=\"http://www.w3.org/2000/svg\" height=\"24px\"viewBox=\"0 0 24 24\"\n",
              "       width=\"24px\">\n",
              "    <path d=\"M0 0h24v24H0V0z\" fill=\"none\"/>\n",
              "    <path d=\"M18.56 5.44l.94 2.06.94-2.06 2.06-.94-2.06-.94-.94-2.06-.94 2.06-2.06.94zm-11 1L8.5 8.5l.94-2.06 2.06-.94-2.06-.94L8.5 2.5l-.94 2.06-2.06.94zm10 10l.94 2.06.94-2.06 2.06-.94-2.06-.94-.94-2.06-.94 2.06-2.06.94z\"/><path d=\"M17.41 7.96l-1.37-1.37c-.4-.4-.92-.59-1.43-.59-.52 0-1.04.2-1.43.59L10.3 9.45l-7.72 7.72c-.78.78-.78 2.05 0 2.83L4 21.41c.39.39.9.59 1.41.59.51 0 1.02-.2 1.41-.59l7.78-7.78 2.81-2.81c.8-.78.8-2.07 0-2.86zM5.41 20L4 18.59l7.72-7.72 1.47 1.35L5.41 20z\"/>\n",
              "  </svg>\n",
              "      </button>\n",
              "      \n",
              "  <style>\n",
              "    .colab-df-container {\n",
              "      display:flex;\n",
              "      flex-wrap:wrap;\n",
              "      gap: 12px;\n",
              "    }\n",
              "\n",
              "    .colab-df-convert {\n",
              "      background-color: #E8F0FE;\n",
              "      border: none;\n",
              "      border-radius: 50%;\n",
              "      cursor: pointer;\n",
              "      display: none;\n",
              "      fill: #1967D2;\n",
              "      height: 32px;\n",
              "      padding: 0 0 0 0;\n",
              "      width: 32px;\n",
              "    }\n",
              "\n",
              "    .colab-df-convert:hover {\n",
              "      background-color: #E2EBFA;\n",
              "      box-shadow: 0px 1px 2px rgba(60, 64, 67, 0.3), 0px 1px 3px 1px rgba(60, 64, 67, 0.15);\n",
              "      fill: #174EA6;\n",
              "    }\n",
              "\n",
              "    [theme=dark] .colab-df-convert {\n",
              "      background-color: #3B4455;\n",
              "      fill: #D2E3FC;\n",
              "    }\n",
              "\n",
              "    [theme=dark] .colab-df-convert:hover {\n",
              "      background-color: #434B5C;\n",
              "      box-shadow: 0px 1px 3px 1px rgba(0, 0, 0, 0.15);\n",
              "      filter: drop-shadow(0px 1px 2px rgba(0, 0, 0, 0.3));\n",
              "      fill: #FFFFFF;\n",
              "    }\n",
              "  </style>\n",
              "\n",
              "      <script>\n",
              "        const buttonEl =\n",
              "          document.querySelector('#df-b93fc43b-3c84-48ae-b246-c12fa06d24e8 button.colab-df-convert');\n",
              "        buttonEl.style.display =\n",
              "          google.colab.kernel.accessAllowed ? 'block' : 'none';\n",
              "\n",
              "        async function convertToInteractive(key) {\n",
              "          const element = document.querySelector('#df-b93fc43b-3c84-48ae-b246-c12fa06d24e8');\n",
              "          const dataTable =\n",
              "            await google.colab.kernel.invokeFunction('convertToInteractive',\n",
              "                                                     [key], {});\n",
              "          if (!dataTable) return;\n",
              "\n",
              "          const docLinkHtml = 'Like what you see? Visit the ' +\n",
              "            '<a target=\"_blank\" href=https://colab.research.google.com/notebooks/data_table.ipynb>data table notebook</a>'\n",
              "            + ' to learn more about interactive tables.';\n",
              "          element.innerHTML = '';\n",
              "          dataTable['output_type'] = 'display_data';\n",
              "          await google.colab.output.renderOutput(dataTable, element);\n",
              "          const docLink = document.createElement('div');\n",
              "          docLink.innerHTML = docLinkHtml;\n",
              "          element.appendChild(docLink);\n",
              "        }\n",
              "      </script>\n",
              "    </div>\n",
              "  </div>\n",
              "  "
            ]
          },
          "metadata": {},
          "execution_count": 64
        }
      ]
    },
    {
      "cell_type": "markdown",
      "source": [
        "##### Q1. Verifique se existem dados nulos na base. Se sim, exclua as linhas com dados nulos verificando antes o número de linhas antes e depois.\n",
        "\n",
        "**Comandos úteis:** `.isnull()`, `.dropna()`"
      ],
      "metadata": {
        "id": "H32wpq29VIwK"
      }
    },
    {
      "cell_type": "code",
      "source": [
        "# seu código"
      ],
      "metadata": {
        "id": "ZyKuGhl7Vp_3"
      },
      "execution_count": null,
      "outputs": []
    },
    {
      "cell_type": "markdown",
      "source": [
        "##### Q2. Qual o período de jogos coberto pela base de dados?\n",
        "\n",
        "Dica: 1o, o período é dado pela menor e maior datas dos jogos; 2o, verifique o formato das datas para ter certeza que as funções de `min()` e `max()` traram a informação correta; 3o, se necessário, **pesquise** e empregue a função `pd.to_datetime()` para converter o formato do atributo.\n",
        "\n",
        "**Comandos úteis:** `.dtypes`, `pd.to_datetime()`"
      ],
      "metadata": {
        "id": "usfQjbJVV28V"
      }
    },
    {
      "cell_type": "code",
      "source": [
        "# seu código"
      ],
      "metadata": {
        "id": "SWJpo3RULKMR"
      },
      "execution_count": null,
      "outputs": []
    },
    {
      "cell_type": "markdown",
      "source": [
        "##### Q3. Pesquise a função `day_name()` do `pandas` e crie um novo atributo com o nome do dia da semana.\n",
        "\n",
        "**Comandos úteis:** `.day_name()`\n",
        "\n",
        "Dica: Veja também como criar uma nova coluna em um DataFrame."
      ],
      "metadata": {
        "id": "u-StJoxdW9G3"
      }
    },
    {
      "cell_type": "code",
      "source": [
        "# seu código"
      ],
      "metadata": {
        "id": "x1Zj8WYlQN-4"
      },
      "execution_count": null,
      "outputs": []
    },
    {
      "cell_type": "markdown",
      "source": [
        "##### Q4. Quantos jogos há aos sábados, domingos e segundas-feiras na base?\n",
        "\n",
        "**Comandos úteis:** `.nunique()`\n",
        "\n",
        "Dica: antes de responder essa pergunta analise a base. Quantos jogos há na base? Não é o número de linhas!"
      ],
      "metadata": {
        "id": "2A4xfHaQXZJh"
      }
    },
    {
      "cell_type": "code",
      "source": [
        "# seu código"
      ],
      "metadata": {
        "id": "G6JU0jVQXRRg"
      },
      "execution_count": null,
      "outputs": []
    },
    {
      "cell_type": "markdown",
      "source": [
        "##### Q5. Crie um `DataFrame de Jogos`, apenas com o id do jogo, a data e nome do dia da semana, e as características do tempo ('Temperature', 'Humidity', 'Wind_Speed'). Remova as duplicatas.\n",
        "\n",
        "**Comandos úteis:** `.drop_duplicates()`"
      ],
      "metadata": {
        "id": "API72Dy6zvnc"
      }
    },
    {
      "cell_type": "code",
      "source": [
        "# seu código"
      ],
      "metadata": {
        "id": "gO05-reo0RFn"
      },
      "execution_count": null,
      "outputs": []
    },
    {
      "cell_type": "markdown",
      "source": [
        "##### Q6. Faça um gráfico de 'distribuição' dos jogos ao longo dos dias da semana. Quais os 3 dias com mais número de jogos?  \n",
        "\n"
      ],
      "metadata": {
        "id": "yg-Abb1L19I3"
      }
    },
    {
      "cell_type": "code",
      "source": [
        "# seu código"
      ],
      "metadata": {
        "id": "5wpUApHQMRcr"
      },
      "execution_count": null,
      "outputs": []
    },
    {
      "cell_type": "markdown",
      "source": [
        "##### Q7. Baseado nesse histórico de jogos, qual a probabilidade de você ir a um jogo da NFL em um dia em a a temperatura é acima de 70F?\n",
        "\n",
        "- Menos de 10%\n",
        "- Entre 10% e 20%\n",
        "- Entre 21% e 30%\n",
        "- Entre 31% e 40%\n",
        "- Entre 41% e 50%\n",
        "- Mais de 50%  \n",
        "\n",
        "Sugestão: Faça um gráfico de distribuição da temperatura durantes os jogos, verifique os quartis etc."
      ],
      "metadata": {
        "id": "MyP3iPPC2bCN"
      }
    },
    {
      "cell_type": "code",
      "source": [
        "# seu código"
      ],
      "metadata": {
        "id": "HjjFNapa2bCO"
      },
      "execution_count": null,
      "outputs": []
    },
    {
      "cell_type": "markdown",
      "source": [
        "##### Q8. Olhando jogadores lances mais rápidos de todas as jogadas (`rush_yds`),\n",
        "\n",
        "a. Quais as posições dos jogadores (em que posição jogam) nos 10 lances mais rápidos?\n",
        "\n",
        "b. Qual o time com mais jogadas entre as 10 mais rápidas?"
      ],
      "metadata": {
        "id": "lGlAupWd9yEE"
      }
    },
    {
      "cell_type": "code",
      "source": [
        "# seu código"
      ],
      "metadata": {
        "id": "qVsApgi_9yqq"
      },
      "execution_count": null,
      "outputs": []
    }
  ]
}