{
  "nbformat": 4,
  "nbformat_minor": 0,
  "metadata": {
    "colab": {
      "provenance": [],
      "authorship_tag": "ABX9TyMJRmT9gIGv3JaOcPJodLqz",
      "include_colab_link": true
    },
    "kernelspec": {
      "name": "python3",
      "display_name": "Python 3"
    },
    "language_info": {
      "name": "python"
    }
  },
  "cells": [
    {
      "cell_type": "markdown",
      "metadata": {
        "id": "view-in-github",
        "colab_type": "text"
      },
      "source": [
        "<a href=\"https://colab.research.google.com/github/Rogerio-mack/Analise_de_Dados_2023S2/blob/main/conv_linear.ipynb\" target=\"_parent\"><img src=\"https://colab.research.google.com/assets/colab-badge.svg\" alt=\"Open In Colab\"/></a>"
      ]
    },
    {
      "cell_type": "code",
      "execution_count": null,
      "metadata": {
        "id": "v4nxZb4m8KJ_"
      },
      "outputs": [],
      "source": [
        "import numpy as np"
      ]
    },
    {
      "cell_type": "code",
      "source": [
        "import numpy as np\n",
        "np.random.seed(0)\n",
        "\n",
        "# vetor = np.random.randint(0, 10, 100)\n",
        "vetor = np.arange(0,10)\n",
        "\n",
        "kernel = np.array([1/2, 0, 1/2])\n",
        "\n",
        "result = np.zeros(len(vetor)-2)\n",
        "\n",
        "for i in range(1,len(vetor)-1):\n",
        "#  result[i-1] = vetor[i-1:i+1+1] @ kernel\n",
        "#  result[i-1] = np.dot(vetor[i-1:i+1+1],kernel)\n",
        "  result[i-1] = np.sum(vetor[i-1:i+1+1] * kernel)\n",
        "\n",
        "print(vetor)\n",
        "print(kernel)\n",
        "print(result)\n"
      ],
      "metadata": {
        "colab": {
          "base_uri": "https://localhost:8080/"
        },
        "id": "m7qy6SA58NbT",
        "outputId": "d1942d55-c0ee-412f-f226-4313929e6be1"
      },
      "execution_count": null,
      "outputs": [
        {
          "output_type": "stream",
          "name": "stdout",
          "text": [
            "[0 1 2 3 4 5 6 7 8 9]\n",
            "[0.5 0.  0.5]\n",
            "[1. 2. 3. 4. 5. 6. 7. 8.]\n"
          ]
        }
      ]
    }
  ]
}