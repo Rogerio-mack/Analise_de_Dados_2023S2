{
  "nbformat": 4,
  "nbformat_minor": 0,
  "metadata": {
    "colab": {
      "provenance": [],
      "authorship_tag": "ABX9TyPLTh8FT38SSGv2ULsb+yO3",
      "include_colab_link": true
    },
    "kernelspec": {
      "name": "python3",
      "display_name": "Python 3"
    },
    "language_info": {
      "name": "python"
    }
  },
  "cells": [
    {
      "cell_type": "markdown",
      "metadata": {
        "id": "view-in-github",
        "colab_type": "text"
      },
      "source": [
        "<a href=\"https://colab.research.google.com/github/Rogerio-mack/Analise_de_Dados_2023S2/blob/main/convolucao_matrizes.ipynb\" target=\"_parent\"><img src=\"https://colab.research.google.com/assets/colab-badge.svg\" alt=\"Open In Colab\"/></a>"
      ]
    },
    {
      "cell_type": "code",
      "execution_count": 1,
      "metadata": {
        "id": "v4nxZb4m8KJ_"
      },
      "outputs": [],
      "source": [
        "import numpy as np"
      ]
    },
    {
      "cell_type": "markdown",
      "source": [
        "# Convolução de um vetor"
      ],
      "metadata": {
        "id": "T27jN7wUK1g-"
      }
    },
    {
      "cell_type": "code",
      "source": [
        "import numpy as np\n",
        "\n",
        "# matriz = np.random.randint(0, 10, 10)\n",
        "vetor = np.arange(0,10)\n",
        "\n",
        "kernel = np.array([1/3, 1/3, 1/3])\n",
        "\n",
        "result = np.zeros(len(vetor) - 2)\n",
        "\n",
        "for i in range(len(result)):\n",
        "  janela = vetor[i:i+3]  # seleciona a janela 3x\n",
        "  result[i] = np.sum(janela * kernel)  # aplica a convolução\n",
        "\n",
        "print(vetor)\n",
        "print(kernel)\n",
        "print(result)\n"
      ],
      "metadata": {
        "colab": {
          "base_uri": "https://localhost:8080/"
        },
        "id": "NjIMNVKeIrdc",
        "outputId": "a6519bbc-7b95-4c12-b7c1-443b875142a3"
      },
      "execution_count": 52,
      "outputs": [
        {
          "output_type": "stream",
          "name": "stdout",
          "text": [
            "[0 1 2 3 4 5 6 7 8 9]\n",
            "[0.33333333 0.33333333 0.33333333]\n",
            "[1. 2. 3. 4. 5. 6. 7. 8.]\n"
          ]
        }
      ]
    },
    {
      "cell_type": "markdown",
      "source": [
        "# Convolução de uma Matriz"
      ],
      "metadata": {
        "id": "ipxiJfGbK53P"
      }
    },
    {
      "cell_type": "code",
      "source": [
        "import numpy as np\n",
        "\n",
        "# matriz = np.random.randint(0, 10, (6, 6))\n",
        "matriz = np.arange(0,36).reshape(6,6)\n",
        "\n",
        "kernel = np.array([[1/9, 1/9, 1/9],\n",
        "                   [1/9, 1/9, 1/9],\n",
        "                   [1/9, 1/9, 1/9]])\n",
        "\n",
        "result = np.zeros([matriz.shape[0]-2,matriz.shape[1]-2])\n",
        "\n",
        "for i in range(result.shape[0]):\n",
        "  for j in range(result.shape[1]):\n",
        "    janela = matriz[i:i+3, j:j+3]  # seleciona a janela 3x3\n",
        "    result[i, j] = np.sum(janela * mascara)  # aplica a convolução\n",
        "\n",
        "print(matriz)\n",
        "print(kernel)\n",
        "print(result)\n"
      ],
      "metadata": {
        "colab": {
          "base_uri": "https://localhost:8080/"
        },
        "id": "vFU3zHLlH43o",
        "outputId": "fbdbefc7-b8f7-4d51-d593-4b29e2fcbf3e"
      },
      "execution_count": 55,
      "outputs": [
        {
          "output_type": "stream",
          "name": "stdout",
          "text": [
            "[[ 0  1  2  3  4  5]\n",
            " [ 6  7  8  9 10 11]\n",
            " [12 13 14 15 16 17]\n",
            " [18 19 20 21 22 23]\n",
            " [24 25 26 27 28 29]\n",
            " [30 31 32 33 34 35]]\n",
            "[[0.11111111 0.11111111 0.11111111]\n",
            " [0.11111111 0.11111111 0.11111111]\n",
            " [0.11111111 0.11111111 0.11111111]]\n",
            "[[ 7.  8.  9. 10.]\n",
            " [13. 14. 15. 16.]\n",
            " [19. 20. 21. 22.]\n",
            " [25. 26. 27. 28.]]\n"
          ]
        }
      ]
    }
  ]
}