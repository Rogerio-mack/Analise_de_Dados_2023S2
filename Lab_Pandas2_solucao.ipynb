{
  "nbformat": 4,
  "nbformat_minor": 0,
  "metadata": {
    "celltoolbar": "Edit Metadata",
    "colab": {
      "provenance": [],
      "include_colab_link": true
    },
    "kernelspec": {
      "display_name": "Python 3",
      "language": "python",
      "name": "python3"
    },
    "language_info": {
      "codemirror_mode": {
        "name": "ipython",
        "version": 3
      },
      "file_extension": ".py",
      "mimetype": "text/x-python",
      "name": "python",
      "nbconvert_exporter": "python",
      "pygments_lexer": "ipython3",
      "version": "3.6.13"
    }
  },
  "cells": [
    {
      "cell_type": "markdown",
      "metadata": {
        "id": "view-in-github",
        "colab_type": "text"
      },
      "source": [
        "<a href=\"https://colab.research.google.com/github/Rogerio-mack/Analise_de_Dados_2023S2/blob/main/Lab_Pandas2_solucao.ipynb\" target=\"_parent\"><img src=\"https://colab.research.google.com/assets/colab-badge.svg\" alt=\"Open In Colab\"/></a>"
      ]
    },
    {
      "cell_type": "markdown",
      "metadata": {
        "id": "J3LMBfpeHTwb"
      },
      "source": [
        "<head>\n",
        "  <meta name=\"author\" content=\"Rogério de Oliveira\">\n",
        "  <meta institution=\"author\" content=\"Universidade Presbiteriana Mackenzie\">\n",
        "</head>\n",
        "\n",
        "<img src=\"http://meusite.mackenzie.br/rogerio/mackenzie_logo/UPM.2_horizontal_vermelho.jpg\" width=300, align=\"right\">\n",
        "<!-- <h1 align=left><font size = 6, style=\"color:rgb(200,0,0)\"> optional title </font></h1> -->\n",
        "\n"
      ]
    },
    {
      "cell_type": "markdown",
      "source": [
        "# Lab: Pandas II\n",
        "\n",
        "O principal objetivo deste Lab é você explorar o `Pandas` e recursos para várias tarefas importantes na análise de dados como o tratamento de datas, dados nulos, entendimento dos dados, remoção de duplicatas, criação de novas colunas de dados e seleções.\n",
        "\n",
        "<br>\n",
        "\n",
        "Referências e Materiais úteis para este Lab:\n",
        "\n",
        "* [Notas de Aula](https://colab.research.google.com/github/Rogerio-mack/Analise_de_dados_labs/blob/main/Lab_Pandas_notes.ipynb)\n",
        "\n",
        "<br>\n",
        "\n",
        "<img src=\"https://jakevdp.github.io/PythonDataScienceHandbook/figures/PDSH-cover.png\n",
        "\" width=150>\n",
        "\n",
        "* [Jake VanderPlas. **Python Data Science Handbook**](https://jakevdp.github.io/PythonDataScienceHandbook/)\n",
        "\n",
        "* [Pandas Cheat Sheet for Data Science in Python](https://pandas.pydata.org/Pandas_Cheat_Sheet.pdf)\n",
        "\n",
        "* [Pandas Manual](https://pandas.pydata.org/)\n",
        "\n",
        "<br>\n",
        "---\n",
        "\n"
      ],
      "metadata": {
        "id": "dEyV_GqcqtL1"
      }
    },
    {
      "cell_type": "markdown",
      "source": [
        "# Basic imports"
      ],
      "metadata": {
        "id": "6AsPs0GIlyle"
      }
    },
    {
      "cell_type": "code",
      "metadata": {
        "id": "jf4DkEBpGdr4"
      },
      "source": [
        "import numpy as np\n",
        "import pandas as pd\n",
        "import matplotlib.pyplot as plt\n",
        "%matplotlib inline\n",
        "import seaborn as sns\n"
      ],
      "execution_count": null,
      "outputs": []
    },
    {
      "cell_type": "markdown",
      "metadata": {
        "id": "te1NO4UoLvgn"
      },
      "source": [
        "## **CASE: NFL**\n",
        "\n",
        "Acesse a base de dados [`NFL Offensive Stats`](https://github.com/Rogerio-mack/Analise_de_dados_labs/raw/main/data/nfl_offensive_stats.csv) para as questões a seguir.\n",
        "\n"
      ]
    },
    {
      "cell_type": "code",
      "source": [
        "df = pd.read_csv('https://github.com/Rogerio-mack/Analise_de_dados_labs/raw/main/data/nfl_offensive_stats.csv')\n",
        "df.head()"
      ],
      "metadata": {
        "colab": {
          "base_uri": "https://localhost:8080/",
          "height": 404
        },
        "id": "Fdl5M8lcKy2U",
        "outputId": "f6fbf490-6c6a-431c-c465-75115ced56c2"
      },
      "execution_count": null,
      "outputs": [
        {
          "output_type": "execute_result",
          "data": {
            "text/plain": [
              "        game_id player_id position                     player team  pass_cmp  \\\n",
              "0  201909050chi  RodgAa00        QB             Aaron Rodgers  GNB        18   \n",
              "1  201909050chi  JoneAa00        RB               Aaron Jones  GNB         0   \n",
              "2  201909050chi  ValdMa00        WR  Marquez Valdes-Scantling  GNB         0   \n",
              "3  201909050chi  AdamDa01        WR             Davante Adams  GNB         0   \n",
              "4  201909050chi  GrahJi00        TE              Jimmy Graham  GNB         0   \n",
              "\n",
              "   pass_att  pass_yds  pass_td  pass_int  ...     OT      Roof  Surface  \\\n",
              "0        30       203        1         0  ...  False  outdoors    grass   \n",
              "1         0         0        0         0  ...  False  outdoors    grass   \n",
              "2         0         0        0         0  ...  False  outdoors    grass   \n",
              "3         0         0        0         0  ...  False  outdoors    grass   \n",
              "4         0         0        0         0  ...  False  outdoors    grass   \n",
              "\n",
              "   Temperature  Humidity  Wind_Speed  Vegas_Line  Vegas_Favorite  Over_Under  \\\n",
              "0           65        69          10        -3.5             CHI        47.0   \n",
              "1           65        69          10        -3.5             CHI        47.0   \n",
              "2           65        69          10        -3.5             CHI        47.0   \n",
              "3           65        69          10        -3.5             CHI        47.0   \n",
              "4           65        69          10        -3.5             CHI        47.0   \n",
              "\n",
              "   game_date  \n",
              "0   9/5/2019  \n",
              "1   9/5/2019  \n",
              "2   9/5/2019  \n",
              "3   9/5/2019  \n",
              "4   9/5/2019  \n",
              "\n",
              "[5 rows x 69 columns]"
            ],
            "text/html": [
              "\n",
              "  <div id=\"df-b93fc43b-3c84-48ae-b246-c12fa06d24e8\">\n",
              "    <div class=\"colab-df-container\">\n",
              "      <div>\n",
              "<style scoped>\n",
              "    .dataframe tbody tr th:only-of-type {\n",
              "        vertical-align: middle;\n",
              "    }\n",
              "\n",
              "    .dataframe tbody tr th {\n",
              "        vertical-align: top;\n",
              "    }\n",
              "\n",
              "    .dataframe thead th {\n",
              "        text-align: right;\n",
              "    }\n",
              "</style>\n",
              "<table border=\"1\" class=\"dataframe\">\n",
              "  <thead>\n",
              "    <tr style=\"text-align: right;\">\n",
              "      <th></th>\n",
              "      <th>game_id</th>\n",
              "      <th>player_id</th>\n",
              "      <th>position</th>\n",
              "      <th>player</th>\n",
              "      <th>team</th>\n",
              "      <th>pass_cmp</th>\n",
              "      <th>pass_att</th>\n",
              "      <th>pass_yds</th>\n",
              "      <th>pass_td</th>\n",
              "      <th>pass_int</th>\n",
              "      <th>...</th>\n",
              "      <th>OT</th>\n",
              "      <th>Roof</th>\n",
              "      <th>Surface</th>\n",
              "      <th>Temperature</th>\n",
              "      <th>Humidity</th>\n",
              "      <th>Wind_Speed</th>\n",
              "      <th>Vegas_Line</th>\n",
              "      <th>Vegas_Favorite</th>\n",
              "      <th>Over_Under</th>\n",
              "      <th>game_date</th>\n",
              "    </tr>\n",
              "  </thead>\n",
              "  <tbody>\n",
              "    <tr>\n",
              "      <th>0</th>\n",
              "      <td>201909050chi</td>\n",
              "      <td>RodgAa00</td>\n",
              "      <td>QB</td>\n",
              "      <td>Aaron Rodgers</td>\n",
              "      <td>GNB</td>\n",
              "      <td>18</td>\n",
              "      <td>30</td>\n",
              "      <td>203</td>\n",
              "      <td>1</td>\n",
              "      <td>0</td>\n",
              "      <td>...</td>\n",
              "      <td>False</td>\n",
              "      <td>outdoors</td>\n",
              "      <td>grass</td>\n",
              "      <td>65</td>\n",
              "      <td>69</td>\n",
              "      <td>10</td>\n",
              "      <td>-3.5</td>\n",
              "      <td>CHI</td>\n",
              "      <td>47.0</td>\n",
              "      <td>9/5/2019</td>\n",
              "    </tr>\n",
              "    <tr>\n",
              "      <th>1</th>\n",
              "      <td>201909050chi</td>\n",
              "      <td>JoneAa00</td>\n",
              "      <td>RB</td>\n",
              "      <td>Aaron Jones</td>\n",
              "      <td>GNB</td>\n",
              "      <td>0</td>\n",
              "      <td>0</td>\n",
              "      <td>0</td>\n",
              "      <td>0</td>\n",
              "      <td>0</td>\n",
              "      <td>...</td>\n",
              "      <td>False</td>\n",
              "      <td>outdoors</td>\n",
              "      <td>grass</td>\n",
              "      <td>65</td>\n",
              "      <td>69</td>\n",
              "      <td>10</td>\n",
              "      <td>-3.5</td>\n",
              "      <td>CHI</td>\n",
              "      <td>47.0</td>\n",
              "      <td>9/5/2019</td>\n",
              "    </tr>\n",
              "    <tr>\n",
              "      <th>2</th>\n",
              "      <td>201909050chi</td>\n",
              "      <td>ValdMa00</td>\n",
              "      <td>WR</td>\n",
              "      <td>Marquez Valdes-Scantling</td>\n",
              "      <td>GNB</td>\n",
              "      <td>0</td>\n",
              "      <td>0</td>\n",
              "      <td>0</td>\n",
              "      <td>0</td>\n",
              "      <td>0</td>\n",
              "      <td>...</td>\n",
              "      <td>False</td>\n",
              "      <td>outdoors</td>\n",
              "      <td>grass</td>\n",
              "      <td>65</td>\n",
              "      <td>69</td>\n",
              "      <td>10</td>\n",
              "      <td>-3.5</td>\n",
              "      <td>CHI</td>\n",
              "      <td>47.0</td>\n",
              "      <td>9/5/2019</td>\n",
              "    </tr>\n",
              "    <tr>\n",
              "      <th>3</th>\n",
              "      <td>201909050chi</td>\n",
              "      <td>AdamDa01</td>\n",
              "      <td>WR</td>\n",
              "      <td>Davante Adams</td>\n",
              "      <td>GNB</td>\n",
              "      <td>0</td>\n",
              "      <td>0</td>\n",
              "      <td>0</td>\n",
              "      <td>0</td>\n",
              "      <td>0</td>\n",
              "      <td>...</td>\n",
              "      <td>False</td>\n",
              "      <td>outdoors</td>\n",
              "      <td>grass</td>\n",
              "      <td>65</td>\n",
              "      <td>69</td>\n",
              "      <td>10</td>\n",
              "      <td>-3.5</td>\n",
              "      <td>CHI</td>\n",
              "      <td>47.0</td>\n",
              "      <td>9/5/2019</td>\n",
              "    </tr>\n",
              "    <tr>\n",
              "      <th>4</th>\n",
              "      <td>201909050chi</td>\n",
              "      <td>GrahJi00</td>\n",
              "      <td>TE</td>\n",
              "      <td>Jimmy Graham</td>\n",
              "      <td>GNB</td>\n",
              "      <td>0</td>\n",
              "      <td>0</td>\n",
              "      <td>0</td>\n",
              "      <td>0</td>\n",
              "      <td>0</td>\n",
              "      <td>...</td>\n",
              "      <td>False</td>\n",
              "      <td>outdoors</td>\n",
              "      <td>grass</td>\n",
              "      <td>65</td>\n",
              "      <td>69</td>\n",
              "      <td>10</td>\n",
              "      <td>-3.5</td>\n",
              "      <td>CHI</td>\n",
              "      <td>47.0</td>\n",
              "      <td>9/5/2019</td>\n",
              "    </tr>\n",
              "  </tbody>\n",
              "</table>\n",
              "<p>5 rows × 69 columns</p>\n",
              "</div>\n",
              "      <button class=\"colab-df-convert\" onclick=\"convertToInteractive('df-b93fc43b-3c84-48ae-b246-c12fa06d24e8')\"\n",
              "              title=\"Convert this dataframe to an interactive table.\"\n",
              "              style=\"display:none;\">\n",
              "        \n",
              "  <svg xmlns=\"http://www.w3.org/2000/svg\" height=\"24px\"viewBox=\"0 0 24 24\"\n",
              "       width=\"24px\">\n",
              "    <path d=\"M0 0h24v24H0V0z\" fill=\"none\"/>\n",
              "    <path d=\"M18.56 5.44l.94 2.06.94-2.06 2.06-.94-2.06-.94-.94-2.06-.94 2.06-2.06.94zm-11 1L8.5 8.5l.94-2.06 2.06-.94-2.06-.94L8.5 2.5l-.94 2.06-2.06.94zm10 10l.94 2.06.94-2.06 2.06-.94-2.06-.94-.94-2.06-.94 2.06-2.06.94z\"/><path d=\"M17.41 7.96l-1.37-1.37c-.4-.4-.92-.59-1.43-.59-.52 0-1.04.2-1.43.59L10.3 9.45l-7.72 7.72c-.78.78-.78 2.05 0 2.83L4 21.41c.39.39.9.59 1.41.59.51 0 1.02-.2 1.41-.59l7.78-7.78 2.81-2.81c.8-.78.8-2.07 0-2.86zM5.41 20L4 18.59l7.72-7.72 1.47 1.35L5.41 20z\"/>\n",
              "  </svg>\n",
              "      </button>\n",
              "      \n",
              "  <style>\n",
              "    .colab-df-container {\n",
              "      display:flex;\n",
              "      flex-wrap:wrap;\n",
              "      gap: 12px;\n",
              "    }\n",
              "\n",
              "    .colab-df-convert {\n",
              "      background-color: #E8F0FE;\n",
              "      border: none;\n",
              "      border-radius: 50%;\n",
              "      cursor: pointer;\n",
              "      display: none;\n",
              "      fill: #1967D2;\n",
              "      height: 32px;\n",
              "      padding: 0 0 0 0;\n",
              "      width: 32px;\n",
              "    }\n",
              "\n",
              "    .colab-df-convert:hover {\n",
              "      background-color: #E2EBFA;\n",
              "      box-shadow: 0px 1px 2px rgba(60, 64, 67, 0.3), 0px 1px 3px 1px rgba(60, 64, 67, 0.15);\n",
              "      fill: #174EA6;\n",
              "    }\n",
              "\n",
              "    [theme=dark] .colab-df-convert {\n",
              "      background-color: #3B4455;\n",
              "      fill: #D2E3FC;\n",
              "    }\n",
              "\n",
              "    [theme=dark] .colab-df-convert:hover {\n",
              "      background-color: #434B5C;\n",
              "      box-shadow: 0px 1px 3px 1px rgba(0, 0, 0, 0.15);\n",
              "      filter: drop-shadow(0px 1px 2px rgba(0, 0, 0, 0.3));\n",
              "      fill: #FFFFFF;\n",
              "    }\n",
              "  </style>\n",
              "\n",
              "      <script>\n",
              "        const buttonEl =\n",
              "          document.querySelector('#df-b93fc43b-3c84-48ae-b246-c12fa06d24e8 button.colab-df-convert');\n",
              "        buttonEl.style.display =\n",
              "          google.colab.kernel.accessAllowed ? 'block' : 'none';\n",
              "\n",
              "        async function convertToInteractive(key) {\n",
              "          const element = document.querySelector('#df-b93fc43b-3c84-48ae-b246-c12fa06d24e8');\n",
              "          const dataTable =\n",
              "            await google.colab.kernel.invokeFunction('convertToInteractive',\n",
              "                                                     [key], {});\n",
              "          if (!dataTable) return;\n",
              "\n",
              "          const docLinkHtml = 'Like what you see? Visit the ' +\n",
              "            '<a target=\"_blank\" href=https://colab.research.google.com/notebooks/data_table.ipynb>data table notebook</a>'\n",
              "            + ' to learn more about interactive tables.';\n",
              "          element.innerHTML = '';\n",
              "          dataTable['output_type'] = 'display_data';\n",
              "          await google.colab.output.renderOutput(dataTable, element);\n",
              "          const docLink = document.createElement('div');\n",
              "          docLink.innerHTML = docLinkHtml;\n",
              "          element.appendChild(docLink);\n",
              "        }\n",
              "      </script>\n",
              "    </div>\n",
              "  </div>\n",
              "  "
            ]
          },
          "metadata": {},
          "execution_count": 64
        }
      ]
    },
    {
      "cell_type": "markdown",
      "source": [
        "##### Q1. Verifique se existem dados nulos na base. Se sim, exclua as linhas com dados nulos verificando antes o número de linhas antes e depois.\n",
        "\n",
        "**Comandos úteis:** `.isnull()`, `.dropna()`"
      ],
      "metadata": {
        "id": "H32wpq29VIwK"
      }
    },
    {
      "cell_type": "code",
      "source": [
        "df.isnull().sum().sum()"
      ],
      "metadata": {
        "colab": {
          "base_uri": "https://localhost:8080/"
        },
        "id": "ZyKuGhl7Vp_3",
        "outputId": "68d6d015-f811-4eed-90c2-b0557e7ff5e1"
      },
      "execution_count": null,
      "outputs": [
        {
          "output_type": "execute_result",
          "data": {
            "text/plain": [
              "46"
            ]
          },
          "metadata": {},
          "execution_count": 65
        }
      ]
    },
    {
      "cell_type": "code",
      "source": [
        "df.isnull().sum()"
      ],
      "metadata": {
        "colab": {
          "base_uri": "https://localhost:8080/"
        },
        "id": "xIVy05_wR7h2",
        "outputId": "a103c3bb-d552-4769-b677-2f24f990292b"
      },
      "execution_count": null,
      "outputs": [
        {
          "output_type": "execute_result",
          "data": {
            "text/plain": [
              "game_id            0\n",
              "player_id          0\n",
              "position           0\n",
              "player             0\n",
              "team               0\n",
              "                  ..\n",
              "Wind_Speed         0\n",
              "Vegas_Line         0\n",
              "Vegas_Favorite    46\n",
              "Over_Under         0\n",
              "game_date          0\n",
              "Length: 69, dtype: int64"
            ]
          },
          "metadata": {},
          "execution_count": 66
        }
      ]
    },
    {
      "cell_type": "code",
      "source": [
        "print('Lines before... ',len(df))\n",
        "df = df.dropna()\n",
        "print('Lines after... ',len(df))"
      ],
      "metadata": {
        "colab": {
          "base_uri": "https://localhost:8080/"
        },
        "id": "fWdWILowSKCQ",
        "outputId": "d6880e43-62b5-4e53-ee37-1f9cd7622cd5"
      },
      "execution_count": null,
      "outputs": [
        {
          "output_type": "stream",
          "name": "stdout",
          "text": [
            "Lines before...  19973\n",
            "Lines after...  19927\n"
          ]
        }
      ]
    },
    {
      "cell_type": "markdown",
      "source": [
        "##### Q2. Qual o período de jogos coberto pela base de dados?\n",
        "\n",
        "Dica: 1o, o período é dado pela menor e maior datas dos jogos; 2o, verifique o formato das datas para ter certeza que as funções de `min()` e `max()` traram a informação correta; 3o, se necessário, **pesquise** e empregue a função `pd.to_datetime()` para converter o formato do atributo.\n",
        "\n",
        "**Comandos úteis:** `.dtypes`, `pd.to_datetime()`"
      ],
      "metadata": {
        "id": "usfQjbJVV28V"
      }
    },
    {
      "cell_type": "code",
      "source": [
        "df.game_date.min(), df.game_date.max()"
      ],
      "metadata": {
        "colab": {
          "base_uri": "https://localhost:8080/"
        },
        "id": "SWJpo3RULKMR",
        "outputId": "73e7afe6-f226-4b39-c749-fea0132c57a7"
      },
      "execution_count": null,
      "outputs": [
        {
          "output_type": "execute_result",
          "data": {
            "text/plain": [
              "('1/10/2021', '9/9/2021')"
            ]
          },
          "metadata": {},
          "execution_count": 27
        }
      ]
    },
    {
      "cell_type": "code",
      "source": [
        "df.dtypes"
      ],
      "metadata": {
        "colab": {
          "base_uri": "https://localhost:8080/"
        },
        "id": "yRxoBgWyLAqT",
        "outputId": "16b44854-8b36-458f-baa3-d8a84f509b11"
      },
      "execution_count": null,
      "outputs": [
        {
          "output_type": "execute_result",
          "data": {
            "text/plain": [
              "game_id            object\n",
              "player_id          object\n",
              "position           object\n",
              "player             object\n",
              "team               object\n",
              "                   ...   \n",
              "Wind_Speed          int64\n",
              "Vegas_Line        float64\n",
              "Vegas_Favorite     object\n",
              "Over_Under        float64\n",
              "game_date          object\n",
              "Length: 69, dtype: object"
            ]
          },
          "metadata": {},
          "execution_count": 28
        }
      ]
    },
    {
      "cell_type": "code",
      "source": [
        "df.game_date = pd.to_datetime(df.game_date)\n",
        "df.game_date.max(), df.game_date.min()"
      ],
      "metadata": {
        "colab": {
          "base_uri": "https://localhost:8080/"
        },
        "id": "7ky9YUGLLVS-",
        "outputId": "3ca32e94-7693-4dd7-e6e8-d68bf8451efd"
      },
      "execution_count": null,
      "outputs": [
        {
          "output_type": "execute_result",
          "data": {
            "text/plain": [
              "(Timestamp('2022-02-13 00:00:00'), Timestamp('2019-09-05 00:00:00'))"
            ]
          },
          "metadata": {},
          "execution_count": 68
        }
      ]
    },
    {
      "cell_type": "markdown",
      "source": [
        "##### Q3. Pesquise a função `day_name()` do `pandas` e crie um novo atributo com o nome do dia da semana.\n",
        "\n",
        "**Comandos úteis:** `.day_name()`\n",
        "\n",
        "Dica: Veja também como criar uma nova coluna em um DataFrame."
      ],
      "metadata": {
        "id": "u-StJoxdW9G3"
      }
    },
    {
      "cell_type": "code",
      "source": [
        "df['day_name'] = df.game_date.dt.day_name()\n",
        "\n",
        "# opcionalmente:\n",
        "df['day_name'] = pd.Categorical(values=df['day_name'], categories=['Sunday', 'Monday',  'Tuesday', 'Wednesday', 'Thursday', 'Friday'],ordered=True) # Set the order for the column as you want\n"
      ],
      "metadata": {
        "colab": {
          "base_uri": "https://localhost:8080/"
        },
        "id": "x1Zj8WYlQN-4",
        "outputId": "55fe028d-de48-4c97-807c-06a7e84fa7bf"
      },
      "execution_count": null,
      "outputs": [
        {
          "output_type": "stream",
          "name": "stderr",
          "text": [
            "<ipython-input-30-cf647feb6a05>:1: SettingWithCopyWarning: \n",
            "A value is trying to be set on a copy of a slice from a DataFrame.\n",
            "Try using .loc[row_indexer,col_indexer] = value instead\n",
            "\n",
            "See the caveats in the documentation: https://pandas.pydata.org/pandas-docs/stable/user_guide/indexing.html#returning-a-view-versus-a-copy\n",
            "  df['day_name'] = df.game_date.dt.day_name()\n",
            "<ipython-input-30-cf647feb6a05>:4: SettingWithCopyWarning: \n",
            "A value is trying to be set on a copy of a slice from a DataFrame.\n",
            "Try using .loc[row_indexer,col_indexer] = value instead\n",
            "\n",
            "See the caveats in the documentation: https://pandas.pydata.org/pandas-docs/stable/user_guide/indexing.html#returning-a-view-versus-a-copy\n",
            "  df['day_name'] = pd.Categorical(values=df['day_name'], categories=['Sunday', 'Monday',  'Tuesday', 'Wednesday', 'Thursday', 'Friday'],ordered=True) # Set the order for the column as you want\n"
          ]
        }
      ]
    },
    {
      "cell_type": "markdown",
      "source": [
        "##### Q4. Quantos jogos há aos sábados, domingos e segundas-feiras na base?\n",
        "\n",
        "**Comandos úteis:** `.nunique()`\n",
        "\n",
        "Dica: antes de responder essa pergunta analise a base. Quantos jogos há na base? Não é o número de linhas!"
      ],
      "metadata": {
        "id": "2A4xfHaQXZJh"
      }
    },
    {
      "cell_type": "code",
      "source": [
        "len(df)"
      ],
      "metadata": {
        "colab": {
          "base_uri": "https://localhost:8080/"
        },
        "id": "G6JU0jVQXRRg",
        "outputId": "bca3f3ac-5f98-455d-df77-658b4124e450"
      },
      "execution_count": null,
      "outputs": [
        {
          "output_type": "execute_result",
          "data": {
            "text/plain": [
              "19927"
            ]
          },
          "metadata": {},
          "execution_count": 31
        }
      ]
    },
    {
      "cell_type": "code",
      "source": [
        "df.game_id.nunique()"
      ],
      "metadata": {
        "colab": {
          "base_uri": "https://localhost:8080/"
        },
        "id": "wuB8ZLzgyIEL",
        "outputId": "c3fba681-dee3-48b4-b63d-5f11da1fe046"
      },
      "execution_count": null,
      "outputs": [
        {
          "output_type": "execute_result",
          "data": {
            "text/plain": [
              "818"
            ]
          },
          "metadata": {},
          "execution_count": 32
        }
      ]
    },
    {
      "cell_type": "code",
      "source": [
        "df[ df.day_name == 'Saturday' ].game_id.nunique()"
      ],
      "metadata": {
        "colab": {
          "base_uri": "https://localhost:8080/"
        },
        "id": "jWlPqZUOyexT",
        "outputId": "44578cd9-137e-4dc3-a8a3-6a5ef28967aa"
      },
      "execution_count": null,
      "outputs": [
        {
          "output_type": "execute_result",
          "data": {
            "text/plain": [
              "0"
            ]
          },
          "metadata": {},
          "execution_count": 33
        }
      ]
    },
    {
      "cell_type": "code",
      "source": [
        "df[ df.day_name == 'Sunday' ].game_id.nunique()"
      ],
      "metadata": {
        "colab": {
          "base_uri": "https://localhost:8080/"
        },
        "id": "I4f-mhnGzCPC",
        "outputId": "73d7f268-aea0-4a30-fe4d-a5e4f5c31307"
      },
      "execution_count": null,
      "outputs": [
        {
          "output_type": "execute_result",
          "data": {
            "text/plain": [
              "682"
            ]
          },
          "metadata": {},
          "execution_count": 34
        }
      ]
    },
    {
      "cell_type": "code",
      "source": [
        "df[ df.day_name == 'Monday' ].game_id.nunique()"
      ],
      "metadata": {
        "colab": {
          "base_uri": "https://localhost:8080/"
        },
        "id": "8lwCjkh1zIL_",
        "outputId": "e17be494-93b0-4883-a722-2587ad8d3a30"
      },
      "execution_count": null,
      "outputs": [
        {
          "output_type": "execute_result",
          "data": {
            "text/plain": [
              "55"
            ]
          },
          "metadata": {},
          "execution_count": 35
        }
      ]
    },
    {
      "cell_type": "markdown",
      "source": [
        "##### Q5. Crie um `DataFrame de Jogos`, apenas com o id do jogo, a data e nome do dia da semana, e as características do tempo ('Temperature', 'Humidity', 'Wind_Speed'). Remova as duplicatas.\n",
        "\n",
        "**Comandos úteis:** `.drop_duplicates()`"
      ],
      "metadata": {
        "id": "API72Dy6zvnc"
      }
    },
    {
      "cell_type": "code",
      "source": [
        "games = df[['game_id','Temperature', 'Humidity', 'Wind_Speed', 'game_date', 'day_name']]\n",
        "games.head()"
      ],
      "metadata": {
        "colab": {
          "base_uri": "https://localhost:8080/",
          "height": 206
        },
        "id": "gO05-reo0RFn",
        "outputId": "452d7a57-c5ac-4861-dfa1-46ea7c6d2ea8"
      },
      "execution_count": null,
      "outputs": [
        {
          "output_type": "execute_result",
          "data": {
            "text/plain": [
              "        game_id  Temperature  Humidity  Wind_Speed  game_date  day_name\n",
              "0  201909050chi           65        69          10 2019-09-05  Thursday\n",
              "1  201909050chi           65        69          10 2019-09-05  Thursday\n",
              "2  201909050chi           65        69          10 2019-09-05  Thursday\n",
              "3  201909050chi           65        69          10 2019-09-05  Thursday\n",
              "4  201909050chi           65        69          10 2019-09-05  Thursday"
            ],
            "text/html": [
              "\n",
              "  <div id=\"df-4131f35b-7ad8-4599-83d9-b2668f8defa0\">\n",
              "    <div class=\"colab-df-container\">\n",
              "      <div>\n",
              "<style scoped>\n",
              "    .dataframe tbody tr th:only-of-type {\n",
              "        vertical-align: middle;\n",
              "    }\n",
              "\n",
              "    .dataframe tbody tr th {\n",
              "        vertical-align: top;\n",
              "    }\n",
              "\n",
              "    .dataframe thead th {\n",
              "        text-align: right;\n",
              "    }\n",
              "</style>\n",
              "<table border=\"1\" class=\"dataframe\">\n",
              "  <thead>\n",
              "    <tr style=\"text-align: right;\">\n",
              "      <th></th>\n",
              "      <th>game_id</th>\n",
              "      <th>Temperature</th>\n",
              "      <th>Humidity</th>\n",
              "      <th>Wind_Speed</th>\n",
              "      <th>game_date</th>\n",
              "      <th>day_name</th>\n",
              "    </tr>\n",
              "  </thead>\n",
              "  <tbody>\n",
              "    <tr>\n",
              "      <th>0</th>\n",
              "      <td>201909050chi</td>\n",
              "      <td>65</td>\n",
              "      <td>69</td>\n",
              "      <td>10</td>\n",
              "      <td>2019-09-05</td>\n",
              "      <td>Thursday</td>\n",
              "    </tr>\n",
              "    <tr>\n",
              "      <th>1</th>\n",
              "      <td>201909050chi</td>\n",
              "      <td>65</td>\n",
              "      <td>69</td>\n",
              "      <td>10</td>\n",
              "      <td>2019-09-05</td>\n",
              "      <td>Thursday</td>\n",
              "    </tr>\n",
              "    <tr>\n",
              "      <th>2</th>\n",
              "      <td>201909050chi</td>\n",
              "      <td>65</td>\n",
              "      <td>69</td>\n",
              "      <td>10</td>\n",
              "      <td>2019-09-05</td>\n",
              "      <td>Thursday</td>\n",
              "    </tr>\n",
              "    <tr>\n",
              "      <th>3</th>\n",
              "      <td>201909050chi</td>\n",
              "      <td>65</td>\n",
              "      <td>69</td>\n",
              "      <td>10</td>\n",
              "      <td>2019-09-05</td>\n",
              "      <td>Thursday</td>\n",
              "    </tr>\n",
              "    <tr>\n",
              "      <th>4</th>\n",
              "      <td>201909050chi</td>\n",
              "      <td>65</td>\n",
              "      <td>69</td>\n",
              "      <td>10</td>\n",
              "      <td>2019-09-05</td>\n",
              "      <td>Thursday</td>\n",
              "    </tr>\n",
              "  </tbody>\n",
              "</table>\n",
              "</div>\n",
              "      <button class=\"colab-df-convert\" onclick=\"convertToInteractive('df-4131f35b-7ad8-4599-83d9-b2668f8defa0')\"\n",
              "              title=\"Convert this dataframe to an interactive table.\"\n",
              "              style=\"display:none;\">\n",
              "        \n",
              "  <svg xmlns=\"http://www.w3.org/2000/svg\" height=\"24px\"viewBox=\"0 0 24 24\"\n",
              "       width=\"24px\">\n",
              "    <path d=\"M0 0h24v24H0V0z\" fill=\"none\"/>\n",
              "    <path d=\"M18.56 5.44l.94 2.06.94-2.06 2.06-.94-2.06-.94-.94-2.06-.94 2.06-2.06.94zm-11 1L8.5 8.5l.94-2.06 2.06-.94-2.06-.94L8.5 2.5l-.94 2.06-2.06.94zm10 10l.94 2.06.94-2.06 2.06-.94-2.06-.94-.94-2.06-.94 2.06-2.06.94z\"/><path d=\"M17.41 7.96l-1.37-1.37c-.4-.4-.92-.59-1.43-.59-.52 0-1.04.2-1.43.59L10.3 9.45l-7.72 7.72c-.78.78-.78 2.05 0 2.83L4 21.41c.39.39.9.59 1.41.59.51 0 1.02-.2 1.41-.59l7.78-7.78 2.81-2.81c.8-.78.8-2.07 0-2.86zM5.41 20L4 18.59l7.72-7.72 1.47 1.35L5.41 20z\"/>\n",
              "  </svg>\n",
              "      </button>\n",
              "      \n",
              "  <style>\n",
              "    .colab-df-container {\n",
              "      display:flex;\n",
              "      flex-wrap:wrap;\n",
              "      gap: 12px;\n",
              "    }\n",
              "\n",
              "    .colab-df-convert {\n",
              "      background-color: #E8F0FE;\n",
              "      border: none;\n",
              "      border-radius: 50%;\n",
              "      cursor: pointer;\n",
              "      display: none;\n",
              "      fill: #1967D2;\n",
              "      height: 32px;\n",
              "      padding: 0 0 0 0;\n",
              "      width: 32px;\n",
              "    }\n",
              "\n",
              "    .colab-df-convert:hover {\n",
              "      background-color: #E2EBFA;\n",
              "      box-shadow: 0px 1px 2px rgba(60, 64, 67, 0.3), 0px 1px 3px 1px rgba(60, 64, 67, 0.15);\n",
              "      fill: #174EA6;\n",
              "    }\n",
              "\n",
              "    [theme=dark] .colab-df-convert {\n",
              "      background-color: #3B4455;\n",
              "      fill: #D2E3FC;\n",
              "    }\n",
              "\n",
              "    [theme=dark] .colab-df-convert:hover {\n",
              "      background-color: #434B5C;\n",
              "      box-shadow: 0px 1px 3px 1px rgba(0, 0, 0, 0.15);\n",
              "      filter: drop-shadow(0px 1px 2px rgba(0, 0, 0, 0.3));\n",
              "      fill: #FFFFFF;\n",
              "    }\n",
              "  </style>\n",
              "\n",
              "      <script>\n",
              "        const buttonEl =\n",
              "          document.querySelector('#df-4131f35b-7ad8-4599-83d9-b2668f8defa0 button.colab-df-convert');\n",
              "        buttonEl.style.display =\n",
              "          google.colab.kernel.accessAllowed ? 'block' : 'none';\n",
              "\n",
              "        async function convertToInteractive(key) {\n",
              "          const element = document.querySelector('#df-4131f35b-7ad8-4599-83d9-b2668f8defa0');\n",
              "          const dataTable =\n",
              "            await google.colab.kernel.invokeFunction('convertToInteractive',\n",
              "                                                     [key], {});\n",
              "          if (!dataTable) return;\n",
              "\n",
              "          const docLinkHtml = 'Like what you see? Visit the ' +\n",
              "            '<a target=\"_blank\" href=https://colab.research.google.com/notebooks/data_table.ipynb>data table notebook</a>'\n",
              "            + ' to learn more about interactive tables.';\n",
              "          element.innerHTML = '';\n",
              "          dataTable['output_type'] = 'display_data';\n",
              "          await google.colab.output.renderOutput(dataTable, element);\n",
              "          const docLink = document.createElement('div');\n",
              "          docLink.innerHTML = docLinkHtml;\n",
              "          element.appendChild(docLink);\n",
              "        }\n",
              "      </script>\n",
              "    </div>\n",
              "  </div>\n",
              "  "
            ]
          },
          "metadata": {},
          "execution_count": 36
        }
      ]
    },
    {
      "cell_type": "code",
      "source": [
        "games = games.drop_duplicates()"
      ],
      "metadata": {
        "id": "2XfvEHbA1zCJ"
      },
      "execution_count": null,
      "outputs": []
    },
    {
      "cell_type": "markdown",
      "source": [
        "##### Q6. Faça um gráfico de 'distribuição' dos jogos ao longo dos dias da semana. Quais os 3 dias com mais número de jogos?  \n",
        "\n"
      ],
      "metadata": {
        "id": "yg-Abb1L19I3"
      }
    },
    {
      "cell_type": "code",
      "source": [
        "plt.figure(figsize=(5,3))\n",
        "\n",
        "sns.histplot(games['day_name'])\n",
        "plt.xticks(rotation=45)\n",
        "plt.show()"
      ],
      "metadata": {
        "colab": {
          "base_uri": "https://localhost:8080/",
          "height": 364
        },
        "id": "5wpUApHQMRcr",
        "outputId": "d350a0e8-4d3c-4686-dfed-e115c2f4aac7"
      },
      "execution_count": null,
      "outputs": [
        {
          "output_type": "display_data",
          "data": {
            "text/plain": [
              "<Figure size 500x300 with 1 Axes>"
            ],
            "image/png": "[encoded data removed]"
          },
          "metadata": {}
        }
      ]
    },
    {
      "cell_type": "markdown",
      "source": [
        "##### Q7. Baseado nesse histórico de jogos, qual a probabilidade de você ir a um jogo da NFL em um dia em a a temperatura é acima de 70F?\n",
        "\n",
        "- Menos de 10%\n",
        "- Entre 10% e 20%\n",
        "- Entre 21% e 30%\n",
        "- Entre 31% e 40%\n",
        "- Entre 41% e 50%\n",
        "- Mais de 50%  \n",
        "\n",
        "Sugestão: Faça um gráfico de distribuição da temperatura durantes os jogos, verifique os quartis etc."
      ],
      "metadata": {
        "id": "MyP3iPPC2bCN"
      }
    },
    {
      "cell_type": "code",
      "source": [
        "plt.figure(figsize=(5,3))\n",
        "\n",
        "sns.kdeplot(games['Temperature'])\n",
        "plt.xticks(rotation=45)\n",
        "plt.show()"
      ],
      "metadata": {
        "colab": {
          "base_uri": "https://localhost:8080/",
          "height": 325
        },
        "outputId": "b7ed68f7-6c87-440f-e61c-423b364e7f1d",
        "id": "HjjFNapa2bCO"
      },
      "execution_count": null,
      "outputs": [
        {
          "output_type": "display_data",
          "data": {
            "text/plain": [
              "<Figure size 500x300 with 1 Axes>"
            ],
            "image/png": "[encoded data removed]"
          },
          "metadata": {}
        }
      ]
    },
    {
      "cell_type": "code",
      "source": [
        "plt.figure(figsize=(12,2))\n",
        "\n",
        "sns.boxplot(games['Temperature'],orient='horizontal')\n",
        "plt.xticks(np.arange(min(games.Temperature),max(games.Temperature)+1,2))\n",
        "plt.show()"
      ],
      "metadata": {
        "colab": {
          "base_uri": "https://localhost:8080/",
          "height": 234
        },
        "id": "qhKlkDU63QJs",
        "outputId": "77b1d35f-11a1-41b4-a040-3eef1817696e"
      },
      "execution_count": null,
      "outputs": [
        {
          "output_type": "display_data",
          "data": {
            "text/plain": [
              "<Figure size 1200x200 with 1 Axes>"
            ],
            "image/png": "[encoded data removed]"
          },
          "metadata": {}
        }
      ]
    },
    {
      "cell_type": "code",
      "source": [
        "games.Temperature.describe()"
      ],
      "metadata": {
        "colab": {
          "base_uri": "https://localhost:8080/"
        },
        "id": "uPmZ2CeE5H_X",
        "outputId": "5fe3f8ac-b318-4d2d-f920-568fa6ffb29f"
      },
      "execution_count": null,
      "outputs": [
        {
          "output_type": "execute_result",
          "data": {
            "text/plain": [
              "count    818.000000\n",
              "mean      62.837408\n",
              "std       15.277818\n",
              "min        7.000000\n",
              "25%       52.000000\n",
              "50%       72.000000\n",
              "75%       72.000000\n",
              "max       93.000000\n",
              "Name: Temperature, dtype: float64"
            ]
          },
          "metadata": {},
          "execution_count": 52
        }
      ]
    },
    {
      "cell_type": "code",
      "source": [
        "len( games[ games.Temperature > 70 ] ) / len( games )"
      ],
      "metadata": {
        "colab": {
          "base_uri": "https://localhost:8080/"
        },
        "id": "5AlFVj1Q4hTY",
        "outputId": "72c8a56a-f591-49b9-e639-535d22313279"
      },
      "execution_count": null,
      "outputs": [
        {
          "output_type": "execute_result",
          "data": {
            "text/plain": [
              "0.5146699266503667"
            ]
          },
          "metadata": {},
          "execution_count": 51
        }
      ]
    },
    {
      "cell_type": "markdown",
      "source": [
        "##### Q8. Olhando jogadores lances mais rápidos de todas as jogadas (`rush_yds`),\n",
        "\n",
        "a. Quais as posições dos jogadores (em que posição jogam) nos 10 lances mais rápidos?\n",
        "\n",
        "b. Qual o time com mais jogadas entre as 10 mais rápidas?"
      ],
      "metadata": {
        "id": "lGlAupWd9yEE"
      }
    },
    {
      "cell_type": "code",
      "source": [
        "df[['player_id', 'team', 'position ', 'rush_yds']].nlargest(10,'rush_yds')"
      ],
      "metadata": {
        "colab": {
          "base_uri": "https://localhost:8080/",
          "height": 363
        },
        "id": "qVsApgi_9yqq",
        "outputId": "50e8526b-7218-4ece-a78b-41431a97fc0c"
      },
      "execution_count": null,
      "outputs": [
        {
          "output_type": "execute_result",
          "data": {
            "text/plain": [
              "      player_id team position   rush_yds\n",
              "12406  TaylJo02  IND        RB       253\n",
              "12458  HenrDe00  TEN        RB       250\n",
              "1280   FourLe00  JAX        RB       225\n",
              "6315   MostRa00  SFO        RB       220\n",
              "11224  HenrDe00  TEN        RB       215\n",
              "8417   HenrDe00  TEN        RB       212\n",
              "5854   HenrDe00  TEN        RB       211\n",
              "9475   CookDa01  MIN        RB       206\n",
              "17766  CookDa01  MIN        RB       205\n",
              "6195   HenrDe00  TEN        RB       195"
            ],
            "text/html": [
              "\n",
              "  <div id=\"df-ac09f3e4-620a-4828-9939-b5a1c0c86b7e\">\n",
              "    <div class=\"colab-df-container\">\n",
              "      <div>\n",
              "<style scoped>\n",
              "    .dataframe tbody tr th:only-of-type {\n",
              "        vertical-align: middle;\n",
              "    }\n",
              "\n",
              "    .dataframe tbody tr th {\n",
              "        vertical-align: top;\n",
              "    }\n",
              "\n",
              "    .dataframe thead th {\n",
              "        text-align: right;\n",
              "    }\n",
              "</style>\n",
              "<table border=\"1\" class=\"dataframe\">\n",
              "  <thead>\n",
              "    <tr style=\"text-align: right;\">\n",
              "      <th></th>\n",
              "      <th>player_id</th>\n",
              "      <th>team</th>\n",
              "      <th>position</th>\n",
              "      <th>rush_yds</th>\n",
              "    </tr>\n",
              "  </thead>\n",
              "  <tbody>\n",
              "    <tr>\n",
              "      <th>12406</th>\n",
              "      <td>TaylJo02</td>\n",
              "      <td>IND</td>\n",
              "      <td>RB</td>\n",
              "      <td>253</td>\n",
              "    </tr>\n",
              "    <tr>\n",
              "      <th>12458</th>\n",
              "      <td>HenrDe00</td>\n",
              "      <td>TEN</td>\n",
              "      <td>RB</td>\n",
              "      <td>250</td>\n",
              "    </tr>\n",
              "    <tr>\n",
              "      <th>1280</th>\n",
              "      <td>FourLe00</td>\n",
              "      <td>JAX</td>\n",
              "      <td>RB</td>\n",
              "      <td>225</td>\n",
              "    </tr>\n",
              "    <tr>\n",
              "      <th>6315</th>\n",
              "      <td>MostRa00</td>\n",
              "      <td>SFO</td>\n",
              "      <td>RB</td>\n",
              "      <td>220</td>\n",
              "    </tr>\n",
              "    <tr>\n",
              "      <th>11224</th>\n",
              "      <td>HenrDe00</td>\n",
              "      <td>TEN</td>\n",
              "      <td>RB</td>\n",
              "      <td>215</td>\n",
              "    </tr>\n",
              "    <tr>\n",
              "      <th>8417</th>\n",
              "      <td>HenrDe00</td>\n",
              "      <td>TEN</td>\n",
              "      <td>RB</td>\n",
              "      <td>212</td>\n",
              "    </tr>\n",
              "    <tr>\n",
              "      <th>5854</th>\n",
              "      <td>HenrDe00</td>\n",
              "      <td>TEN</td>\n",
              "      <td>RB</td>\n",
              "      <td>211</td>\n",
              "    </tr>\n",
              "    <tr>\n",
              "      <th>9475</th>\n",
              "      <td>CookDa01</td>\n",
              "      <td>MIN</td>\n",
              "      <td>RB</td>\n",
              "      <td>206</td>\n",
              "    </tr>\n",
              "    <tr>\n",
              "      <th>17766</th>\n",
              "      <td>CookDa01</td>\n",
              "      <td>MIN</td>\n",
              "      <td>RB</td>\n",
              "      <td>205</td>\n",
              "    </tr>\n",
              "    <tr>\n",
              "      <th>6195</th>\n",
              "      <td>HenrDe00</td>\n",
              "      <td>TEN</td>\n",
              "      <td>RB</td>\n",
              "      <td>195</td>\n",
              "    </tr>\n",
              "  </tbody>\n",
              "</table>\n",
              "</div>\n",
              "      <button class=\"colab-df-convert\" onclick=\"convertToInteractive('df-ac09f3e4-620a-4828-9939-b5a1c0c86b7e')\"\n",
              "              title=\"Convert this dataframe to an interactive table.\"\n",
              "              style=\"display:none;\">\n",
              "        \n",
              "  <svg xmlns=\"http://www.w3.org/2000/svg\" height=\"24px\"viewBox=\"0 0 24 24\"\n",
              "       width=\"24px\">\n",
              "    <path d=\"M0 0h24v24H0V0z\" fill=\"none\"/>\n",
              "    <path d=\"M18.56 5.44l.94 2.06.94-2.06 2.06-.94-2.06-.94-.94-2.06-.94 2.06-2.06.94zm-11 1L8.5 8.5l.94-2.06 2.06-.94-2.06-.94L8.5 2.5l-.94 2.06-2.06.94zm10 10l.94 2.06.94-2.06 2.06-.94-2.06-.94-.94-2.06-.94 2.06-2.06.94z\"/><path d=\"M17.41 7.96l-1.37-1.37c-.4-.4-.92-.59-1.43-.59-.52 0-1.04.2-1.43.59L10.3 9.45l-7.72 7.72c-.78.78-.78 2.05 0 2.83L4 21.41c.39.39.9.59 1.41.59.51 0 1.02-.2 1.41-.59l7.78-7.78 2.81-2.81c.8-.78.8-2.07 0-2.86zM5.41 20L4 18.59l7.72-7.72 1.47 1.35L5.41 20z\"/>\n",
              "  </svg>\n",
              "      </button>\n",
              "      \n",
              "  <style>\n",
              "    .colab-df-container {\n",
              "      display:flex;\n",
              "      flex-wrap:wrap;\n",
              "      gap: 12px;\n",
              "    }\n",
              "\n",
              "    .colab-df-convert {\n",
              "      background-color: #E8F0FE;\n",
              "      border: none;\n",
              "      border-radius: 50%;\n",
              "      cursor: pointer;\n",
              "      display: none;\n",
              "      fill: #1967D2;\n",
              "      height: 32px;\n",
              "      padding: 0 0 0 0;\n",
              "      width: 32px;\n",
              "    }\n",
              "\n",
              "    .colab-df-convert:hover {\n",
              "      background-color: #E2EBFA;\n",
              "      box-shadow: 0px 1px 2px rgba(60, 64, 67, 0.3), 0px 1px 3px 1px rgba(60, 64, 67, 0.15);\n",
              "      fill: #174EA6;\n",
              "    }\n",
              "\n",
              "    [theme=dark] .colab-df-convert {\n",
              "      background-color: #3B4455;\n",
              "      fill: #D2E3FC;\n",
              "    }\n",
              "\n",
              "    [theme=dark] .colab-df-convert:hover {\n",
              "      background-color: #434B5C;\n",
              "      box-shadow: 0px 1px 3px 1px rgba(0, 0, 0, 0.15);\n",
              "      filter: drop-shadow(0px 1px 2px rgba(0, 0, 0, 0.3));\n",
              "      fill: #FFFFFF;\n",
              "    }\n",
              "  </style>\n",
              "\n",
              "      <script>\n",
              "        const buttonEl =\n",
              "          document.querySelector('#df-ac09f3e4-620a-4828-9939-b5a1c0c86b7e button.colab-df-convert');\n",
              "        buttonEl.style.display =\n",
              "          google.colab.kernel.accessAllowed ? 'block' : 'none';\n",
              "\n",
              "        async function convertToInteractive(key) {\n",
              "          const element = document.querySelector('#df-ac09f3e4-620a-4828-9939-b5a1c0c86b7e');\n",
              "          const dataTable =\n",
              "            await google.colab.kernel.invokeFunction('convertToInteractive',\n",
              "                                                     [key], {});\n",
              "          if (!dataTable) return;\n",
              "\n",
              "          const docLinkHtml = 'Like what you see? Visit the ' +\n",
              "            '<a target=\"_blank\" href=https://colab.research.google.com/notebooks/data_table.ipynb>data table notebook</a>'\n",
              "            + ' to learn more about interactive tables.';\n",
              "          element.innerHTML = '';\n",
              "          dataTable['output_type'] = 'display_data';\n",
              "          await google.colab.output.renderOutput(dataTable, element);\n",
              "          const docLink = document.createElement('div');\n",
              "          docLink.innerHTML = docLinkHtml;\n",
              "          element.appendChild(docLink);\n",
              "        }\n",
              "      </script>\n",
              "    </div>\n",
              "  </div>\n",
              "  "
            ]
          },
          "metadata": {},
          "execution_count": 62
        }
      ]
    }
  ]
}